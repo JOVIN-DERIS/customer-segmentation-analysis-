{
 "cells": [
  {
   "cell_type": "code",
   "execution_count": 2,
   "id": "1b26b29a-e4b0-4903-a928-3e0b527cab4c",
   "metadata": {},
   "outputs": [
    {
     "name": "stdout",
     "output_type": "stream",
     "text": [
      "✅ Model, scaler, and feature names saved successfully.\n"
     ]
    }
   ],
   "source": [
    "# model_build.py\n",
    "import pandas as pd\n",
    "import numpy as np\n",
    "from sklearn.preprocessing import StandardScaler\n",
    "from sklearn.cluster import KMeans\n",
    "import joblib\n",
    "\n",
    "# Load data\n",
    "df = pd.read_excel(\"marketing_campaign.xlsx\")\n",
    "\n",
    "# Drop unnecessary columns\n",
    "df = df.drop(columns=[\"ID\", \"Dt_Customer\"], errors=\"ignore\")\n",
    "\n",
    "# Handle missing values\n",
    "df['Income'] = df['Income'].fillna(df['Income'].median())\n",
    "\n",
    "# Convert categorical variables\n",
    "df = pd.get_dummies(df, drop_first=True)\n",
    "\n",
    "# Save feature names\n",
    "feature_names = df.columns.tolist()\n",
    "\n",
    "# Standardize features\n",
    "scaler = StandardScaler()\n",
    "scaled_features = scaler.fit_transform(df)\n",
    "\n",
    "# Apply KMeans\n",
    "kmeans = KMeans(n_clusters=4, random_state=42)\n",
    "kmeans.fit(scaled_features)\n",
    "\n",
    "# Save model, scaler, and feature names\n",
    "joblib.dump(kmeans, \"kmeans_model.pkl\")\n",
    "joblib.dump(scaler, \"scaler.pkl\")\n",
    "joblib.dump(feature_names, \"feature_names.pkl\")\n",
    "\n",
    "print(\"✅ Model, scaler, and feature names saved successfully.\")\n"
   ]
  },
  {
   "cell_type": "code",
   "execution_count": null,
   "id": "bf71744e-f20c-465e-968d-5d35bb69b199",
   "metadata": {},
   "outputs": [],
   "source": []
  }
 ],
 "metadata": {
  "kernelspec": {
   "display_name": "Python 3 (ipykernel)",
   "language": "python",
   "name": "python3"
  },
  "language_info": {
   "codemirror_mode": {
    "name": "ipython",
    "version": 3
   },
   "file_extension": ".py",
   "mimetype": "text/x-python",
   "name": "python",
   "nbconvert_exporter": "python",
   "pygments_lexer": "ipython3",
   "version": "3.12.3"
  }
 },
 "nbformat": 4,
 "nbformat_minor": 5
}
